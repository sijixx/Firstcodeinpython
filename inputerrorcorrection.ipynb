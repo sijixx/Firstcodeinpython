{
  "nbformat": 4,
  "nbformat_minor": 0,
  "metadata": {
    "colab": {
      "name": "Untitled0.ipynb",
      "provenance": [],
      "collapsed_sections": [],
      "authorship_tag": "ABX9TyN0OTIpZaNFuVhDey1SWhQI",
      "include_colab_link": true
    },
    "kernelspec": {
      "name": "python3",
      "display_name": "Python 3"
    },
    "language_info": {
      "name": "python"
    }
  },
  "cells": [
    {
      "cell_type": "markdown",
      "metadata": {
        "id": "view-in-github",
        "colab_type": "text"
      },
      "source": [
        "<a href=\"https://colab.research.google.com/github/sijixx/Firstcodeinpython/blob/main/inputerrorcorrection.ipynb\" target=\"_parent\"><img src=\"https://colab.research.google.com/assets/colab-badge.svg\" alt=\"Open In Colab\"/></a>"
      ]
    },
    {
      "cell_type": "code",
      "metadata": {
        "colab": {
          "base_uri": "https://localhost:8080/"
        },
        "id": "aCP3UbkV9tI8",
        "outputId": "c6a15438-4d13-47ca-a355-81050c57f145"
      },
      "source": [
        "print(\"Welcome to python world! Let's start coding\")"
      ],
      "execution_count": null,
      "outputs": [
        {
          "output_type": "stream",
          "name": "stdout",
          "text": [
            "Welcome to python world! Let's start coding\n"
          ]
        }
      ]
    },
    {
      "cell_type": "code",
      "metadata": {
        "colab": {
          "base_uri": "https://localhost:8080/"
        },
        "id": "rHhA9OtE27Aq",
        "outputId": "e09e817b-6a05-4f5b-8f0a-65277c553c96"
      },
      "source": [
        "inp=input('What floor are you on in Europe?')\n",
        "usd=int(inp) + 1\n",
        "print('American floor is', usd, 'floors up#')\n"
      ],
      "execution_count": 4,
      "outputs": [
        {
          "output_type": "stream",
          "name": "stdout",
          "text": [
            "What floor are you on in Europe?3\n",
            "American floor is 4 floors up\n"
          ]
        }
      ]
    },
    {
      "cell_type": "code",
      "metadata": {
        "colab": {
          "base_uri": "https://localhost:8080/"
        },
        "id": "OvwwMdC_AX6s",
        "outputId": "e66b5b31-9290-4bfc-d51e-62f3d947a47f"
      },
      "source": [
        "age = int(input('How old are you?'))\n",
        "if age >= 18:\n",
        "  print('You are an Adult')\n",
        "else:\n",
        "  print('You are still underaged')"
      ],
      "execution_count": 11,
      "outputs": [
        {
          "output_type": "stream",
          "name": "stdout",
          "text": [
            "How old are you?18\n",
            "You are an Adult\n"
          ]
        }
      ]
    },
    {
      "cell_type": "code",
      "metadata": {
        "colab": {
          "base_uri": "https://localhost:8080/"
        },
        "id": "TuPEXG_oEGUg",
        "outputId": "70478e8e-e82f-4bdf-8d8d-d7f1aef8b48b"
      },
      "source": [
        "#This code corrects input error when filling a form for example\n",
        "\n",
        "phone = input('Phone number Here')\n",
        "\n",
        "try:\n",
        "  err = int(phone)\n",
        "except:\n",
        "  err = -1\n",
        "\n",
        "if err > 0:\n",
        "  print('Thank You, We will Contact You')\n",
        "\n",
        "else:\n",
        "  print('Numbers Only Please')"
      ],
      "execution_count": 3,
      "outputs": [
        {
          "output_type": "stream",
          "name": "stdout",
          "text": [
            "Phone number Here0809e\n",
            "Numbers Only Please\n"
          ]
        }
      ]
    }
  ]
}