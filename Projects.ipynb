{
  "nbformat": 4,
  "nbformat_minor": 0,
  "metadata": {
    "colab": {
      "name": "Projects.ipynb",
      "provenance": [],
      "collapsed_sections": [],
      "authorship_tag": "ABX9TyP5vggA2IDTJR7Ww7MT68Ys",
      "include_colab_link": true
    },
    "kernelspec": {
      "name": "python3",
      "display_name": "Python 3"
    },
    "language_info": {
      "name": "python"
    }
  },
  "cells": [
    {
      "cell_type": "markdown",
      "metadata": {
        "id": "view-in-github",
        "colab_type": "text"
      },
      "source": [
        "<a href=\"https://colab.research.google.com/github/sijixx/Firstcodeinpython/blob/main/Projects.ipynb\" target=\"_parent\"><img src=\"https://colab.research.google.com/assets/colab-badge.svg\" alt=\"Open In Colab\"/></a>"
      ]
    },
    {
      "cell_type": "code",
      "metadata": {
        "colab": {
          "base_uri": "https://localhost:8080/"
        },
        "id": "GiXNH0roPF8X",
        "outputId": "7807af47-6d63-49ce-99ee-2b6cfa5095b5"
      },
      "source": [
        "#numbers divisible by 7 but not a Multiple of 5\n",
        "\n",
        "#empty list declared to print \n",
        "numbers = []\n",
        "\n",
        "#conditional statement for range statement between 2000 and 3200\n",
        "for x in range(2000, 3200):\n",
        "  if (x%7 == 0) and (x%5 != 0):\n",
        "    numbers.append(str(x))\n",
        "\n",
        "print(',' .join(numbers))\n",
        "\n"
      ],
      "execution_count": null,
      "outputs": [
        {
          "output_type": "stream",
          "name": "stdout",
          "text": [
            "2002,2009,2016,2023,2037,2044,2051,2058,2072,2079,2086,2093,2107,2114,2121,2128,2142,2149,2156,2163,2177,2184,2191,2198,2212,2219,2226,2233,2247,2254,2261,2268,2282,2289,2296,2303,2317,2324,2331,2338,2352,2359,2366,2373,2387,2394,2401,2408,2422,2429,2436,2443,2457,2464,2471,2478,2492,2499,2506,2513,2527,2534,2541,2548,2562,2569,2576,2583,2597,2604,2611,2618,2632,2639,2646,2653,2667,2674,2681,2688,2702,2709,2716,2723,2737,2744,2751,2758,2772,2779,2786,2793,2807,2814,2821,2828,2842,2849,2856,2863,2877,2884,2891,2898,2912,2919,2926,2933,2947,2954,2961,2968,2982,2989,2996,3003,3017,3024,3031,3038,3052,3059,3066,3073,3087,3094,3101,3108,3122,3129,3136,3143,3157,3164,3171,3178,3192,3199\n"
          ]
        }
      ]
    },
    {
      "cell_type": "code",
      "metadata": {
        "colab": {
          "base_uri": "https://localhost:8080/"
        },
        "id": "thrthNnrgwK0",
        "outputId": "0b120adb-7527-470f-e251-b78574c51cb8"
      },
      "source": [
        "#get the factorial result for any given integer\n",
        "\n",
        "def factorial(number):\n",
        "  if number == 0:\n",
        "    return 1\n",
        "\n",
        "  elif number <= 0:\n",
        "    return ('Number cannot be negative')\n",
        "  elif not (number % 1 == 0):\n",
        "    return ('Number cannot be a float')\n",
        "\n",
        "  else:\n",
        "    return number * factorial(number - 1)\n",
        "\n",
        "number = int(input('Enter a number to get the factorial:'))\n",
        "\n",
        "print(factorial(number))"
      ],
      "execution_count": null,
      "outputs": [
        {
          "output_type": "stream",
          "name": "stdout",
          "text": [
            "Enter a number to get the factorial:-9\n",
            "Number cannot be negative\n"
          ]
        }
      ]
    },
    {
      "cell_type": "code",
      "metadata": {
        "id": "NdRKwD2VoxuB",
        "colab": {
          "base_uri": "https://localhost:8080/"
        },
        "outputId": "b4b00b70-e202-4206-d1e7-5752c0ff4338"
      },
      "source": [
        "number = int(input(\"Type a number: \"))\n",
        "\n",
        "numberDict = {}\n",
        "for i in range(1, number+1):\n",
        "    numberDict[i] = i*i\n",
        "\n",
        "print(numberDict)"
      ],
      "execution_count": 1,
      "outputs": [
        {
          "output_type": "stream",
          "name": "stdout",
          "text": [
            "Type a number: 6\n",
            "{1: 1, 2: 4, 3: 9, 4: 16, 5: 25, 6: 36}\n"
          ]
        }
      ]
    },
    {
      "cell_type": "code",
      "metadata": {
        "id": "zAXkNXWhEDk5"
      },
      "source": [
        "def missing_char(str,n):\n",
        " return str[:n] + str[n+1:]"
      ],
      "execution_count": 2,
      "outputs": []
    },
    {
      "cell_type": "code",
      "metadata": {
        "colab": {
          "base_uri": "https://localhost:8080/"
        },
        "id": "2UU6G0ELHpv5",
        "outputId": "b7313064-6961-40fc-ae68-5dd6a01891a4"
      },
      "source": [
        "import numpy as np\n",
        "np = np.array([[0, 1], [2 ,3], [4, 5]]) \n",
        "list12 = np.tolist()\n",
        "\n",
        "print(f'Numpy array: \\n {np}')\n",
        "print(f'\\n List conversion = {list12}')"
      ],
      "execution_count": 13,
      "outputs": [
        {
          "output_type": "stream",
          "name": "stdout",
          "text": [
            "Numpy array: \n",
            " [[0 1]\n",
            " [2 3]\n",
            " [4 5]]\n",
            "\n",
            " List conversion = [[0, 1], [2, 3], [4, 5]]\n"
          ]
        }
      ]
    },
    {
      "cell_type": "code",
      "metadata": {
        "colab": {
          "base_uri": "https://localhost:8080/"
        },
        "id": "TWlkT2-1KqTf",
        "outputId": "8b38760d-0692-4f20-c23c-4ea6bd4a8e8b"
      },
      "source": [
        "#Write a NumPy program to compute the covariance matrix of two given arrays. \n",
        "\n",
        "import numpy as np\n",
        "arry1 = np.array([0, 1, 2]) \n",
        "arry2 = np.array([2, 1, 0]) \n",
        "\n",
        "cov = np.cov(arry1, arry2)\n",
        "\n",
        "print(f'First array: {arry1}')\n",
        "print(f'Second array: {arry2}')\n",
        "print(f'\\n Covariance is given as: \\n {cov}')"
      ],
      "execution_count": 11,
      "outputs": [
        {
          "output_type": "stream",
          "name": "stdout",
          "text": [
            "First array: [0 1 2]\n",
            "Second array: [2 1 0]\n",
            "\n",
            " Covariance is given as: \n",
            " [[ 1. -1.]\n",
            " [-1.  1.]]\n"
          ]
        }
      ]
    },
    {
      "cell_type": "code",
      "metadata": {
        "colab": {
          "base_uri": "https://localhost:8080/"
        },
        "id": "IloUz6I9MmE5",
        "outputId": "904ca4ce-b0b0-4f9c-cb6a-ac8be0ff1b78"
      },
      "source": [
        "import math\n",
        "\n",
        "num = input('Input your D: ')\n",
        "num = num.split(',')\n",
        "C = 50\n",
        "H = 30\n",
        "\n",
        "result = []\n",
        "for D in num:\n",
        "  Q = round(math.sqrt((2 * C * int(D))/H))\n",
        "\n",
        "result.append(Q)\n",
        "\n",
        "print(result)"
      ],
      "execution_count": 29,
      "outputs": [
        {
          "output_type": "stream",
          "name": "stdout",
          "text": [
            "Input your D: 457\n",
            "[39]\n"
          ]
        }
      ]
    }
  ]
}